{
 "cells": [
  {
   "cell_type": "code",
   "execution_count": null,
   "id": "d4713534-8d65-40ba-86b0-01ce8b659791",
   "metadata": {},
   "outputs": [],
   "source": [
    "def rename_columns(df):\n",
    "    df = df.rename(columns={\"clnt_tenure_yr\": \"client_years\",\n",
    "                            'clnt_tenure_mnth\t': 'client_month',\n",
    "                            \"clnt_age\":\"client_age\",\n",
    "                            \"gendr\":\"gender\",\n",
    "                            \"num_accts\":\"num_accounts\",\n",
    "                            \"bal\":\"balance\",\n",
    "                            \"calls_6_mnth\":\"calls_6_months\",\n",
    "                            \"logons_6_mnth\":\"logins_6\"},\n",
    "                   inplace= True)\n",
    "    return df\n",
    "rename_columns(df)"
   ]
  }
 ],
 "metadata": {
  "kernelspec": {
   "display_name": "Python 3 (ipykernel)",
   "language": "python",
   "name": "python3"
  },
  "language_info": {
   "codemirror_mode": {
    "name": "ipython",
    "version": 3
   },
   "file_extension": ".py",
   "mimetype": "text/x-python",
   "name": "python",
   "nbconvert_exporter": "python",
   "pygments_lexer": "ipython3",
   "version": "3.11.7"
  }
 },
 "nbformat": 4,
 "nbformat_minor": 5
}
