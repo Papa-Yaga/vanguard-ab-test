{
 "cells": [
  {
   "cell_type": "code",
   "execution_count": 1,
   "id": "47685d95-0250-4b5a-bb5f-812e6b65d9b1",
   "metadata": {},
   "outputs": [],
   "source": [
    "# !pip install import_ipynb "
   ]
  },
  {
   "cell_type": "code",
   "execution_count": 2,
   "id": "e84feac7-76e7-486b-af0b-ada1ac2cb4eb",
   "metadata": {},
   "outputs": [],
   "source": [
    "import pandas as pd\n",
    "import numpy as np\n",
    "import matplotlib.pyplot as plt\n",
    "import seaborn as sns\n",
    "from datetime import datetime as dt\n",
    "import scipy.stats as st\n",
    "\n",
    "import warnings\n",
    "\n",
    "warnings.filterwarnings(\"ignore\", category=DeprecationWarning)\n",
    "warnings.filterwarnings(\"ignore\", category=FutureWarning)\n",
    "\n",
    "%matplotlib inline"
   ]
  },
  {
   "cell_type": "markdown",
   "id": "0f6cea79-a0e1-4a81-8e16-90e692efb02a",
   "metadata": {},
   "source": [
    "**Metadata**\n",
    "\n",
    "This comprehensive set of fields will guide your analysis, helping you unravel the intricacies of client behavior and preferences.\n",
    "\n",
    "    * client_id: Every client’s unique ID.\n",
    "    * variation: Indicates if a client was part of the experiment.\n",
    "    * visitor_id: A unique ID for each client-device combination.\n",
    "    * visit_id: A unique ID for each web visit/session.\n",
    "    * process_step: Marks each step in the digital process.\n",
    "    * date_time: Timestamp of each web activity.\n",
    "    * clnt_tenure_yr: Represents how long the client has been with Vanguard, measured in years.\n",
    "    * clnt_tenure_mnth: Further breaks down the client’s tenure with Vanguard in months.\n",
    "    * clnt_age: Indicates the age of the client.\n",
    "    * gendr: Specifies the client’s gender.\n",
    "    * num_accts: Denotes the number of accounts the client holds with Vanguard.\n",
    "    * bal: Gives the total balance spread across all accounts for a particular client.\n",
    "    * calls_6_mnth: Records the number of times the client reached out over a call in the past six months.\n",
    "    * logons_6_mnth: Reflects the frequency with which the client logged onto Vanguard’s platform over the last six months.\n"
   ]
  },
  {
   "cell_type": "code",
   "execution_count": 3,
   "id": "342af061-f5f7-4788-9d6c-8fbe16354cfd",
   "metadata": {},
   "outputs": [
    {
     "name": "stderr",
     "output_type": "stream",
     "text": [
      "C:\\Users\\PapaYaga\\AppData\\Local\\Temp\\ipykernel_13784\\3258300398.py:1: DtypeWarning: Columns (14) have mixed types. Specify dtype option on import or set low_memory=False.\n",
      "  all_data = pd.read_csv(\"all_data.csv\")\n"
     ]
    },
    {
     "data": {
      "text/html": [
       "<div>\n",
       "<style scoped>\n",
       "    .dataframe tbody tr th:only-of-type {\n",
       "        vertical-align: middle;\n",
       "    }\n",
       "\n",
       "    .dataframe tbody tr th {\n",
       "        vertical-align: top;\n",
       "    }\n",
       "\n",
       "    .dataframe thead th {\n",
       "        text-align: right;\n",
       "    }\n",
       "</style>\n",
       "<table border=\"1\" class=\"dataframe\">\n",
       "  <thead>\n",
       "    <tr style=\"text-align: right;\">\n",
       "      <th></th>\n",
       "      <th>Unnamed: 0</th>\n",
       "      <th>client_id</th>\n",
       "      <th>visitor_id</th>\n",
       "      <th>visit_id</th>\n",
       "      <th>process_step</th>\n",
       "      <th>date_time</th>\n",
       "      <th>clnt_tenure_yr</th>\n",
       "      <th>clnt_tenure_mnth</th>\n",
       "      <th>clnt_age</th>\n",
       "      <th>gendr</th>\n",
       "      <th>num_accts</th>\n",
       "      <th>bal</th>\n",
       "      <th>calls_6_mnth</th>\n",
       "      <th>logons_6_mnth</th>\n",
       "      <th>Variation</th>\n",
       "    </tr>\n",
       "  </thead>\n",
       "  <tbody>\n",
       "    <tr>\n",
       "      <th>0</th>\n",
       "      <td>0</td>\n",
       "      <td>9988021</td>\n",
       "      <td>580560515_7732621733</td>\n",
       "      <td>781255054_21935453173_531117</td>\n",
       "      <td>step_3</td>\n",
       "      <td>2017-04-17 15:27:07</td>\n",
       "      <td>5.0</td>\n",
       "      <td>64.0</td>\n",
       "      <td>79.0</td>\n",
       "      <td>U</td>\n",
       "      <td>2.0</td>\n",
       "      <td>189023.86</td>\n",
       "      <td>1.0</td>\n",
       "      <td>4.0</td>\n",
       "      <td>Test</td>\n",
       "    </tr>\n",
       "    <tr>\n",
       "      <th>1</th>\n",
       "      <td>1</td>\n",
       "      <td>9988021</td>\n",
       "      <td>580560515_7732621733</td>\n",
       "      <td>781255054_21935453173_531117</td>\n",
       "      <td>step_2</td>\n",
       "      <td>2017-04-17 15:26:51</td>\n",
       "      <td>5.0</td>\n",
       "      <td>64.0</td>\n",
       "      <td>79.0</td>\n",
       "      <td>U</td>\n",
       "      <td>2.0</td>\n",
       "      <td>189023.86</td>\n",
       "      <td>1.0</td>\n",
       "      <td>4.0</td>\n",
       "      <td>Test</td>\n",
       "    </tr>\n",
       "    <tr>\n",
       "      <th>2</th>\n",
       "      <td>2</td>\n",
       "      <td>9988021</td>\n",
       "      <td>580560515_7732621733</td>\n",
       "      <td>781255054_21935453173_531117</td>\n",
       "      <td>step_3</td>\n",
       "      <td>2017-04-17 15:19:22</td>\n",
       "      <td>5.0</td>\n",
       "      <td>64.0</td>\n",
       "      <td>79.0</td>\n",
       "      <td>U</td>\n",
       "      <td>2.0</td>\n",
       "      <td>189023.86</td>\n",
       "      <td>1.0</td>\n",
       "      <td>4.0</td>\n",
       "      <td>Test</td>\n",
       "    </tr>\n",
       "    <tr>\n",
       "      <th>3</th>\n",
       "      <td>3</td>\n",
       "      <td>9988021</td>\n",
       "      <td>580560515_7732621733</td>\n",
       "      <td>781255054_21935453173_531117</td>\n",
       "      <td>step_2</td>\n",
       "      <td>2017-04-17 15:19:13</td>\n",
       "      <td>5.0</td>\n",
       "      <td>64.0</td>\n",
       "      <td>79.0</td>\n",
       "      <td>U</td>\n",
       "      <td>2.0</td>\n",
       "      <td>189023.86</td>\n",
       "      <td>1.0</td>\n",
       "      <td>4.0</td>\n",
       "      <td>Test</td>\n",
       "    </tr>\n",
       "    <tr>\n",
       "      <th>4</th>\n",
       "      <td>4</td>\n",
       "      <td>9988021</td>\n",
       "      <td>580560515_7732621733</td>\n",
       "      <td>781255054_21935453173_531117</td>\n",
       "      <td>step_3</td>\n",
       "      <td>2017-04-17 15:18:04</td>\n",
       "      <td>5.0</td>\n",
       "      <td>64.0</td>\n",
       "      <td>79.0</td>\n",
       "      <td>U</td>\n",
       "      <td>2.0</td>\n",
       "      <td>189023.86</td>\n",
       "      <td>1.0</td>\n",
       "      <td>4.0</td>\n",
       "      <td>Test</td>\n",
       "    </tr>\n",
       "  </tbody>\n",
       "</table>\n",
       "</div>"
      ],
      "text/plain": [
       "   Unnamed: 0  client_id            visitor_id                      visit_id  \\\n",
       "0           0    9988021  580560515_7732621733  781255054_21935453173_531117   \n",
       "1           1    9988021  580560515_7732621733  781255054_21935453173_531117   \n",
       "2           2    9988021  580560515_7732621733  781255054_21935453173_531117   \n",
       "3           3    9988021  580560515_7732621733  781255054_21935453173_531117   \n",
       "4           4    9988021  580560515_7732621733  781255054_21935453173_531117   \n",
       "\n",
       "  process_step            date_time  clnt_tenure_yr  clnt_tenure_mnth  \\\n",
       "0       step_3  2017-04-17 15:27:07             5.0              64.0   \n",
       "1       step_2  2017-04-17 15:26:51             5.0              64.0   \n",
       "2       step_3  2017-04-17 15:19:22             5.0              64.0   \n",
       "3       step_2  2017-04-17 15:19:13             5.0              64.0   \n",
       "4       step_3  2017-04-17 15:18:04             5.0              64.0   \n",
       "\n",
       "   clnt_age gendr  num_accts        bal  calls_6_mnth  logons_6_mnth Variation  \n",
       "0      79.0     U        2.0  189023.86           1.0            4.0      Test  \n",
       "1      79.0     U        2.0  189023.86           1.0            4.0      Test  \n",
       "2      79.0     U        2.0  189023.86           1.0            4.0      Test  \n",
       "3      79.0     U        2.0  189023.86           1.0            4.0      Test  \n",
       "4      79.0     U        2.0  189023.86           1.0            4.0      Test  "
      ]
     },
     "execution_count": 3,
     "metadata": {},
     "output_type": "execute_result"
    }
   ],
   "source": [
    "all_data = pd.read_csv(\"all_data.csv\")\n",
    "all_data.head(5)"
   ]
  },
  {
   "cell_type": "code",
   "execution_count": 4,
   "id": "b66ff144-badc-447d-85e5-a7af0816ad1e",
   "metadata": {},
   "outputs": [],
   "source": [
    "from functions import *"
   ]
  },
  {
   "cell_type": "code",
   "execution_count": 5,
   "id": "c9be672b-d9fb-4da2-9adf-ad07b75cdf4c",
   "metadata": {},
   "outputs": [
    {
     "data": {
      "text/plain": [
       "Variation\n",
       "Test       177847\n",
       "Control    143462\n",
       "Name: count, dtype: int64"
      ]
     },
     "execution_count": 5,
     "metadata": {},
     "output_type": "execute_result"
    }
   ],
   "source": [
    "all_data[\"Variation\"].value_counts()"
   ]
  },
  {
   "cell_type": "code",
   "execution_count": 6,
   "id": "be06c907-9f1e-46f3-bda2-f14a430b6f5c",
   "metadata": {},
   "outputs": [],
   "source": [
    "all_data = clean_dtypes(all_data)\n",
    "all_data = rename_columns(all_data)"
   ]
  },
  {
   "cell_type": "code",
   "execution_count": 7,
   "id": "2499ce88-e6bc-4116-89af-7f5160baac51",
   "metadata": {},
   "outputs": [
    {
     "data": {
      "text/html": [
       "<div>\n",
       "<style scoped>\n",
       "    .dataframe tbody tr th:only-of-type {\n",
       "        vertical-align: middle;\n",
       "    }\n",
       "\n",
       "    .dataframe tbody tr th {\n",
       "        vertical-align: top;\n",
       "    }\n",
       "\n",
       "    .dataframe thead th {\n",
       "        text-align: right;\n",
       "    }\n",
       "</style>\n",
       "<table border=\"1\" class=\"dataframe\">\n",
       "  <thead>\n",
       "    <tr style=\"text-align: right;\">\n",
       "      <th></th>\n",
       "      <th>client_id</th>\n",
       "      <th>visitor_id</th>\n",
       "      <th>visit_id</th>\n",
       "      <th>process_step</th>\n",
       "      <th>date_time</th>\n",
       "      <th>client_years</th>\n",
       "      <th>client_month</th>\n",
       "      <th>client_age</th>\n",
       "      <th>gender</th>\n",
       "      <th>num_accounts</th>\n",
       "      <th>balance</th>\n",
       "      <th>calls_6_months</th>\n",
       "      <th>logins_6</th>\n",
       "      <th>Variation</th>\n",
       "    </tr>\n",
       "  </thead>\n",
       "  <tbody>\n",
       "    <tr>\n",
       "      <th>0</th>\n",
       "      <td>9988021</td>\n",
       "      <td>580560515_7732621733</td>\n",
       "      <td>781255054_21935453173_531117</td>\n",
       "      <td>step_3</td>\n",
       "      <td>2017-04-17 15:27:07</td>\n",
       "      <td>5</td>\n",
       "      <td>64</td>\n",
       "      <td>79</td>\n",
       "      <td>U</td>\n",
       "      <td>2</td>\n",
       "      <td>189023.86</td>\n",
       "      <td>1</td>\n",
       "      <td>4</td>\n",
       "      <td>Test</td>\n",
       "    </tr>\n",
       "    <tr>\n",
       "      <th>1</th>\n",
       "      <td>9988021</td>\n",
       "      <td>580560515_7732621733</td>\n",
       "      <td>781255054_21935453173_531117</td>\n",
       "      <td>step_2</td>\n",
       "      <td>2017-04-17 15:26:51</td>\n",
       "      <td>5</td>\n",
       "      <td>64</td>\n",
       "      <td>79</td>\n",
       "      <td>U</td>\n",
       "      <td>2</td>\n",
       "      <td>189023.86</td>\n",
       "      <td>1</td>\n",
       "      <td>4</td>\n",
       "      <td>Test</td>\n",
       "    </tr>\n",
       "    <tr>\n",
       "      <th>2</th>\n",
       "      <td>9988021</td>\n",
       "      <td>580560515_7732621733</td>\n",
       "      <td>781255054_21935453173_531117</td>\n",
       "      <td>step_3</td>\n",
       "      <td>2017-04-17 15:19:22</td>\n",
       "      <td>5</td>\n",
       "      <td>64</td>\n",
       "      <td>79</td>\n",
       "      <td>U</td>\n",
       "      <td>2</td>\n",
       "      <td>189023.86</td>\n",
       "      <td>1</td>\n",
       "      <td>4</td>\n",
       "      <td>Test</td>\n",
       "    </tr>\n",
       "  </tbody>\n",
       "</table>\n",
       "</div>"
      ],
      "text/plain": [
       "   client_id            visitor_id                      visit_id process_step  \\\n",
       "0    9988021  580560515_7732621733  781255054_21935453173_531117       step_3   \n",
       "1    9988021  580560515_7732621733  781255054_21935453173_531117       step_2   \n",
       "2    9988021  580560515_7732621733  781255054_21935453173_531117       step_3   \n",
       "\n",
       "            date_time  client_years  client_month  client_age gender  \\\n",
       "0 2017-04-17 15:27:07             5            64          79      U   \n",
       "1 2017-04-17 15:26:51             5            64          79      U   \n",
       "2 2017-04-17 15:19:22             5            64          79      U   \n",
       "\n",
       "   num_accounts    balance  calls_6_months  logins_6 Variation  \n",
       "0             2  189023.86               1         4      Test  \n",
       "1             2  189023.86               1         4      Test  \n",
       "2             2  189023.86               1         4      Test  "
      ]
     },
     "execution_count": 7,
     "metadata": {},
     "output_type": "execute_result"
    }
   ],
   "source": [
    "all_data.head(3)"
   ]
  },
  {
   "cell_type": "code",
   "execution_count": 8,
   "id": "980f4721-4b41-4f48-a7e4-2bc7b5cb6a68",
   "metadata": {},
   "outputs": [],
   "source": [
    "correlation_matrix = all_data.select_dtypes(\"number\").corr().round(3)"
   ]
  },
  {
   "cell_type": "code",
   "execution_count": 9,
   "id": "e4ac05e4-05cb-4ab7-a64d-7ad761ef2d47",
   "metadata": {},
   "outputs": [],
   "source": [
    "correlation_matrix_annot = correlation_matrix.map(lambda x: \"Low\" if x <= 0.2 else \"Moderate\" if x < 0.5 and x > 0.2 else \"High\")"
   ]
  },
  {
   "cell_type": "code",
   "execution_count": 10,
   "id": "3dadbb53-5e1c-40ae-aab4-7ab8cc8f2efc",
   "metadata": {},
   "outputs": [
    {
     "data": {
      "text/html": [
       "<div>\n",
       "<style scoped>\n",
       "    .dataframe tbody tr th:only-of-type {\n",
       "        vertical-align: middle;\n",
       "    }\n",
       "\n",
       "    .dataframe tbody tr th {\n",
       "        vertical-align: top;\n",
       "    }\n",
       "\n",
       "    .dataframe thead th {\n",
       "        text-align: right;\n",
       "    }\n",
       "</style>\n",
       "<table border=\"1\" class=\"dataframe\">\n",
       "  <thead>\n",
       "    <tr style=\"text-align: right;\">\n",
       "      <th></th>\n",
       "      <th>client_id</th>\n",
       "      <th>client_years</th>\n",
       "      <th>client_month</th>\n",
       "      <th>client_age</th>\n",
       "      <th>num_accounts</th>\n",
       "      <th>balance</th>\n",
       "      <th>calls_6_months</th>\n",
       "      <th>logins_6</th>\n",
       "    </tr>\n",
       "  </thead>\n",
       "  <tbody>\n",
       "    <tr>\n",
       "      <th>client_id</th>\n",
       "      <td>High</td>\n",
       "      <td>Low</td>\n",
       "      <td>Low</td>\n",
       "      <td>Low</td>\n",
       "      <td>Low</td>\n",
       "      <td>Low</td>\n",
       "      <td>Low</td>\n",
       "      <td>Low</td>\n",
       "    </tr>\n",
       "    <tr>\n",
       "      <th>client_years</th>\n",
       "      <td>Low</td>\n",
       "      <td>High</td>\n",
       "      <td>High</td>\n",
       "      <td>Moderate</td>\n",
       "      <td>Low</td>\n",
       "      <td>Low</td>\n",
       "      <td>Low</td>\n",
       "      <td>Low</td>\n",
       "    </tr>\n",
       "    <tr>\n",
       "      <th>client_month</th>\n",
       "      <td>Low</td>\n",
       "      <td>High</td>\n",
       "      <td>High</td>\n",
       "      <td>Moderate</td>\n",
       "      <td>Low</td>\n",
       "      <td>Low</td>\n",
       "      <td>Low</td>\n",
       "      <td>Low</td>\n",
       "    </tr>\n",
       "    <tr>\n",
       "      <th>client_age</th>\n",
       "      <td>Low</td>\n",
       "      <td>Moderate</td>\n",
       "      <td>Moderate</td>\n",
       "      <td>High</td>\n",
       "      <td>Low</td>\n",
       "      <td>Moderate</td>\n",
       "      <td>Low</td>\n",
       "      <td>Low</td>\n",
       "    </tr>\n",
       "    <tr>\n",
       "      <th>num_accounts</th>\n",
       "      <td>Low</td>\n",
       "      <td>Low</td>\n",
       "      <td>Low</td>\n",
       "      <td>Low</td>\n",
       "      <td>High</td>\n",
       "      <td>Moderate</td>\n",
       "      <td>Moderate</td>\n",
       "      <td>Moderate</td>\n",
       "    </tr>\n",
       "    <tr>\n",
       "      <th>balance</th>\n",
       "      <td>Low</td>\n",
       "      <td>Low</td>\n",
       "      <td>Low</td>\n",
       "      <td>Moderate</td>\n",
       "      <td>Moderate</td>\n",
       "      <td>High</td>\n",
       "      <td>Low</td>\n",
       "      <td>Low</td>\n",
       "    </tr>\n",
       "    <tr>\n",
       "      <th>calls_6_months</th>\n",
       "      <td>Low</td>\n",
       "      <td>Low</td>\n",
       "      <td>Low</td>\n",
       "      <td>Low</td>\n",
       "      <td>Moderate</td>\n",
       "      <td>Low</td>\n",
       "      <td>High</td>\n",
       "      <td>High</td>\n",
       "    </tr>\n",
       "    <tr>\n",
       "      <th>logins_6</th>\n",
       "      <td>Low</td>\n",
       "      <td>Low</td>\n",
       "      <td>Low</td>\n",
       "      <td>Low</td>\n",
       "      <td>Moderate</td>\n",
       "      <td>Low</td>\n",
       "      <td>High</td>\n",
       "      <td>High</td>\n",
       "    </tr>\n",
       "  </tbody>\n",
       "</table>\n",
       "</div>"
      ],
      "text/plain": [
       "               client_id client_years client_month client_age num_accounts  \\\n",
       "client_id           High          Low          Low        Low          Low   \n",
       "client_years         Low         High         High   Moderate          Low   \n",
       "client_month         Low         High         High   Moderate          Low   \n",
       "client_age           Low     Moderate     Moderate       High          Low   \n",
       "num_accounts         Low          Low          Low        Low         High   \n",
       "balance              Low          Low          Low   Moderate     Moderate   \n",
       "calls_6_months       Low          Low          Low        Low     Moderate   \n",
       "logins_6             Low          Low          Low        Low     Moderate   \n",
       "\n",
       "                 balance calls_6_months  logins_6  \n",
       "client_id            Low            Low       Low  \n",
       "client_years         Low            Low       Low  \n",
       "client_month         Low            Low       Low  \n",
       "client_age      Moderate            Low       Low  \n",
       "num_accounts    Moderate       Moderate  Moderate  \n",
       "balance             High            Low       Low  \n",
       "calls_6_months       Low           High      High  \n",
       "logins_6             Low           High      High  "
      ]
     },
     "execution_count": 10,
     "metadata": {},
     "output_type": "execute_result"
    }
   ],
   "source": [
    "correlation_matrix_annot"
   ]
  },
  {
   "cell_type": "code",
   "execution_count": 11,
   "id": "c9f23e50-51ea-4abd-901f-29b8258fedb9",
   "metadata": {},
   "outputs": [
    {
     "data": {
      "text/plain": [
       "<Axes: >"
      ]
     },
     "execution_count": 11,
     "metadata": {},
     "output_type": "execute_result"
    },
    {
     "data": {
      "image/png": "[encoded data removed]",
      "text/plain": [
       "<Figure size 640x480 with 2 Axes>"
      ]
     },
     "metadata": {},
     "output_type": "display_data"
    }
   ],
   "source": [
    "sns.heatmap(correlation_matrix, annot=True, cmap=\"gray\")"
   ]
  },
  {
   "cell_type": "code",
   "execution_count": 12,
   "id": "313bae7c-e846-476b-bce7-34764c72491c",
   "metadata": {},
   "outputs": [
    {
     "data": {
      "text/plain": [
       "Index(['client_id', 'visitor_id', 'visit_id', 'process_step', 'date_time',\n",
       "       'client_years', 'client_month', 'client_age', 'gender', 'num_accounts',\n",
       "       'balance', 'calls_6_months', 'logins_6', 'Variation'],\n",
       "      dtype='object')"
      ]
     },
     "execution_count": 12,
     "metadata": {},
     "output_type": "execute_result"
    }
   ],
   "source": [
    "all_data.columns"
   ]
  },
  {
   "cell_type": "code",
   "execution_count": 13,
   "id": "91c210f0-dadf-406d-9f07-28f275b2b1bd",
   "metadata": {},
   "outputs": [
    {
     "name": "stdout",
     "output_type": "stream",
     "text": [
      "Step: start:Variation\n",
      "Control    2.034791\n",
      "Test       2.116796\n",
      "Name: process_step, dtype: float64\n",
      "Difference: 0.082\n",
      "\n",
      "Step: step_1:Variation\n",
      "Control    1.472211\n",
      "Test       1.597560\n",
      "Name: process_step, dtype: float64\n",
      "Difference: 0.125\n",
      "\n",
      "Step: step_2:Variation\n",
      "Control    1.387989\n",
      "Test       1.392263\n",
      "Name: process_step, dtype: float64\n",
      "Difference: 0.004\n",
      "\n",
      "Step: step_3:Variation\n",
      "Control    1.308403\n",
      "Test       1.240075\n",
      "Name: process_step, dtype: float64\n",
      "Difference: 0.068\n",
      "\n",
      "Step: confirm:Variation\n",
      "Control    1.134184\n",
      "Test       1.376465\n",
      "Name: process_step, dtype: float64\n",
      "Difference: 0.242\n",
      "\n"
     ]
    }
   ],
   "source": [
    "steps_df = pd.DataFrame()\n",
    "\n",
    "steps = [\"start\", \"step_1\", \"step_2\", \"step_3\", \"confirm\"]\n",
    "steps_2 = []\n",
    "\n",
    "for s in steps:\n",
    "    for i in range(2):\n",
    "        steps_2.append(s)\n",
    "    step_count = all_data[all_data[\"process_step\"]==s].groupby([\"Variation\", \"client_id\"])[\"process_step\"].count().to_frame()\n",
    "    step_count = step_count.reset_index().groupby([\"Variation\"])[\"process_step\"].mean()\n",
    "    print(f\"Step: {s}:{step_count}\")\n",
    "    print(f\"Difference: {abs(step_count[0]-step_count[1]).round(3)}\\n\")\n",
    "    steps_df = pd.concat([steps_df,step_count.to_frame()])"
   ]
  },
  {
   "cell_type": "code",
   "execution_count": 14,
   "id": "6942c0ec-967d-484f-b5eb-0bfb1b282473",
   "metadata": {},
   "outputs": [
    {
     "data": {
      "text/html": [
       "<div>\n",
       "<style scoped>\n",
       "    .dataframe tbody tr th:only-of-type {\n",
       "        vertical-align: middle;\n",
       "    }\n",
       "\n",
       "    .dataframe tbody tr th {\n",
       "        vertical-align: top;\n",
       "    }\n",
       "\n",
       "    .dataframe thead th {\n",
       "        text-align: right;\n",
       "    }\n",
       "</style>\n",
       "<table border=\"1\" class=\"dataframe\">\n",
       "  <thead>\n",
       "    <tr style=\"text-align: right;\">\n",
       "      <th></th>\n",
       "      <th>process_step</th>\n",
       "    </tr>\n",
       "  </thead>\n",
       "  <tbody>\n",
       "    <tr>\n",
       "      <th>start</th>\n",
       "      <td>2.034791</td>\n",
       "    </tr>\n",
       "    <tr>\n",
       "      <th>start</th>\n",
       "      <td>2.116796</td>\n",
       "    </tr>\n",
       "    <tr>\n",
       "      <th>step_1</th>\n",
       "      <td>1.472211</td>\n",
       "    </tr>\n",
       "    <tr>\n",
       "      <th>step_1</th>\n",
       "      <td>1.597560</td>\n",
       "    </tr>\n",
       "    <tr>\n",
       "      <th>step_2</th>\n",
       "      <td>1.387989</td>\n",
       "    </tr>\n",
       "    <tr>\n",
       "      <th>step_2</th>\n",
       "      <td>1.392263</td>\n",
       "    </tr>\n",
       "    <tr>\n",
       "      <th>step_3</th>\n",
       "      <td>1.308403</td>\n",
       "    </tr>\n",
       "    <tr>\n",
       "      <th>step_3</th>\n",
       "      <td>1.240075</td>\n",
       "    </tr>\n",
       "    <tr>\n",
       "      <th>confirm</th>\n",
       "      <td>1.134184</td>\n",
       "    </tr>\n",
       "    <tr>\n",
       "      <th>confirm</th>\n",
       "      <td>1.376465</td>\n",
       "    </tr>\n",
       "  </tbody>\n",
       "</table>\n",
       "</div>"
      ],
      "text/plain": [
       "         process_step\n",
       "start        2.034791\n",
       "start        2.116796\n",
       "step_1       1.472211\n",
       "step_1       1.597560\n",
       "step_2       1.387989\n",
       "step_2       1.392263\n",
       "step_3       1.308403\n",
       "step_3       1.240075\n",
       "confirm      1.134184\n",
       "confirm      1.376465"
      ]
     },
     "execution_count": 14,
     "metadata": {},
     "output_type": "execute_result"
    }
   ],
   "source": [
    "steps_df.reset_index().pivot(columns=\"Variation\", values=\"process_step\")\n",
    "steps_df.set_index(pd.Index(steps_2))"
   ]
  },
  {
   "cell_type": "code",
   "execution_count": 15,
   "id": "c010c4e0-adbb-4a51-bbb9-c86b4bbdea58",
   "metadata": {},
   "outputs": [],
   "source": [
    "max_time = all_data.groupby([\"client_id\"])[\"date_time\"].max().to_frame()\n",
    "min_time = all_data.groupby([\"client_id\"])[\"date_time\"].min().to_frame()\n",
    "max_time = max_time.merge(min_time, on=\"client_id\")\n",
    "all_time = max_time.merge(all_data[[\"client_id\",\"Variation\"]], on=\"client_id\").sort_values(by=\"Variation\")\n",
    "all_time[\"time\"] = abs(all_time[\"date_time_x\"]-all_time[\"date_time_y\"])"
   ]
  },
  {
   "cell_type": "code",
   "execution_count": 16,
   "id": "991f7807-639c-4647-b051-3f2b9f055fff",
   "metadata": {},
   "outputs": [
    {
     "data": {
      "text/html": [
       "<div>\n",
       "<style scoped>\n",
       "    .dataframe tbody tr th:only-of-type {\n",
       "        vertical-align: middle;\n",
       "    }\n",
       "\n",
       "    .dataframe tbody tr th {\n",
       "        vertical-align: top;\n",
       "    }\n",
       "\n",
       "    .dataframe thead th {\n",
       "        text-align: right;\n",
       "    }\n",
       "</style>\n",
       "<table border=\"1\" class=\"dataframe\">\n",
       "  <thead>\n",
       "    <tr style=\"text-align: right;\">\n",
       "      <th>Variation</th>\n",
       "      <th>Control</th>\n",
       "      <th>Test</th>\n",
       "    </tr>\n",
       "  </thead>\n",
       "  <tbody>\n",
       "    <tr>\n",
       "      <th>count</th>\n",
       "      <td>143462</td>\n",
       "      <td>177847</td>\n",
       "    </tr>\n",
       "    <tr>\n",
       "      <th>mean</th>\n",
       "      <td>8 days 07:25:33.577546667</td>\n",
       "      <td>7 days 19:15:33.115115801</td>\n",
       "    </tr>\n",
       "    <tr>\n",
       "      <th>std</th>\n",
       "      <td>17 days 05:22:10.167426110</td>\n",
       "      <td>16 days 21:00:38.671644668</td>\n",
       "    </tr>\n",
       "    <tr>\n",
       "      <th>min</th>\n",
       "      <td>0 days 00:00:00</td>\n",
       "      <td>0 days 00:00:00</td>\n",
       "    </tr>\n",
       "    <tr>\n",
       "      <th>25%</th>\n",
       "      <td>0 days 00:03:43</td>\n",
       "      <td>0 days 00:03:35</td>\n",
       "    </tr>\n",
       "    <tr>\n",
       "      <th>50%</th>\n",
       "      <td>0 days 00:09:38</td>\n",
       "      <td>0 days 00:10:08</td>\n",
       "    </tr>\n",
       "    <tr>\n",
       "      <th>75%</th>\n",
       "      <td>5 days 21:56:59</td>\n",
       "      <td>5 days 00:28:22.500000</td>\n",
       "    </tr>\n",
       "    <tr>\n",
       "      <th>max</th>\n",
       "      <td>96 days 22:05:49</td>\n",
       "      <td>93 days 20:55:45</td>\n",
       "    </tr>\n",
       "  </tbody>\n",
       "</table>\n",
       "</div>"
      ],
      "text/plain": [
       "Variation                     Control                        Test\n",
       "count                          143462                      177847\n",
       "mean        8 days 07:25:33.577546667   7 days 19:15:33.115115801\n",
       "std        17 days 05:22:10.167426110  16 days 21:00:38.671644668\n",
       "min                   0 days 00:00:00             0 days 00:00:00\n",
       "25%                   0 days 00:03:43             0 days 00:03:35\n",
       "50%                   0 days 00:09:38             0 days 00:10:08\n",
       "75%                   5 days 21:56:59      5 days 00:28:22.500000\n",
       "max                  96 days 22:05:49            93 days 20:55:45"
      ]
     },
     "execution_count": 16,
     "metadata": {},
     "output_type": "execute_result"
    }
   ],
   "source": [
    "all_time.groupby([\"Variation\"])[\"time\"].describe().T"
   ]
  },
  {
   "cell_type": "code",
   "execution_count": 17,
   "id": "fecf5233-f44e-4a55-ad66-a326e3cac4b2",
   "metadata": {},
   "outputs": [],
   "source": [
    "var_mod = pd.crosstab(all_data[\"client_id\"], all_data[\"Variation\"])\n",
    "var_mod = var_mod.map(lambda x: 1 if x>0 else x)\n",
    "processes = pd.crosstab(all_data[\"client_id\"], all_data[\"process_step\"]).join(var_mod)"
   ]
  },
  {
   "cell_type": "code",
   "execution_count": 18,
   "id": "e0266b1f-3b4c-4a20-84b1-dbb8130f2a29",
   "metadata": {},
   "outputs": [],
   "source": [
    "processes_steps = processes[(processes[\"confirm\"] >= 1) & (processes[\"start\"] >= 1)].fillna(0)"
   ]
  },
  {
   "cell_type": "code",
   "execution_count": null,
   "id": "0f909360-3ecc-48f0-b79c-310ce2d038f6",
   "metadata": {},
   "outputs": [],
   "source": []
  },
  {
   "cell_type": "code",
   "execution_count": 19,
   "id": "8e29f406-d1a6-4367-812d-4eb57ab317ed",
   "metadata": {},
   "outputs": [
    {
     "data": {
      "text/plain": [
       "<Axes: xlabel='process_step', ylabel='count'>"
      ]
     },
     "execution_count": 19,
     "metadata": {},
     "output_type": "execute_result"
    },
    {
     "data": {
      "image/png": "[encoded data removed]",
      "text/plain": [
       "<Figure size 640x480 with 1 Axes>"
      ]
     },
     "metadata": {},
     "output_type": "display_data"
    }
   ],
   "source": [
    "sns.countplot(all_data, x=\"process_step\", hue=\"Variation\")"
   ]
  },
  {
   "cell_type": "code",
   "execution_count": 20,
   "id": "3cfc119d-5c02-4d53-864e-a3d49f01be25",
   "metadata": {},
   "outputs": [
    {
     "data": {
      "text/plain": [
       "Index(['client_id', 'visitor_id', 'visit_id', 'process_step', 'date_time',\n",
       "       'client_years', 'client_month', 'client_age', 'gender', 'num_accounts',\n",
       "       'balance', 'calls_6_months', 'logins_6', 'Variation'],\n",
       "      dtype='object')"
      ]
     },
     "execution_count": 20,
     "metadata": {},
     "output_type": "execute_result"
    }
   ],
   "source": [
    "all_data.columns"
   ]
  },
  {
   "cell_type": "code",
   "execution_count": 21,
   "id": "1b839c16-58a7-4af9-93da-6d7cf0b978b4",
   "metadata": {},
   "outputs": [
    {
     "data": {
      "text/plain": [
       "<Axes: xlabel='date_time', ylabel='Count'>"
      ]
     },
     "execution_count": 21,
     "metadata": {},
     "output_type": "execute_result"
    },
    {
     "data": {
      "image/png": "[encoded data removed]",
      "text/plain": [
       "<Figure size 640x480 with 1 Axes>"
      ]
     },
     "metadata": {},
     "output_type": "display_data"
    }
   ],
   "source": [
    "plt.xticks(rotation=90)\n",
    "sns.histplot(all_data, x=\"date_time\", bins=50, multiple=\"layer\", hue=\"Variation\")"
   ]
  },
  {
   "cell_type": "code",
   "execution_count": 22,
   "id": "2e53e4a3-3f0c-487b-b782-2b731ade1b2c",
   "metadata": {},
   "outputs": [
    {
     "data": {
      "text/plain": [
       "<Axes: xlabel='date_time', ylabel='Count'>"
      ]
     },
     "execution_count": 22,
     "metadata": {},
     "output_type": "execute_result"
    },
    {
     "data": {
      "image/png": "[encoded data removed]",
      "text/plain": [
       "<Figure size 640x480 with 1 Axes>"
      ]
     },
     "metadata": {},
     "output_type": "display_data"
    }
   ],
   "source": [
    "plt.xticks(rotation=90)\n",
    "sns.histplot(all_data, x=\"date_time\", bins=50, multiple=\"dodge\", hue=\"gender\")"
   ]
  },
  {
   "cell_type": "code",
   "execution_count": 23,
   "id": "6d869cde-7e27-4bc7-96fc-1f5d92100126",
   "metadata": {},
   "outputs": [],
   "source": [
    "confirm = all_data[all_data[\"process_step\"]==\"confirm\"].groupby([\"Variation\"]).size().to_frame()\n",
    "all_confirm = all_data.groupby([\"Variation\"]).size().to_frame()"
   ]
  },
  {
   "cell_type": "markdown",
   "id": "da7ec330-1149-4a4c-ae31-2ba50e3828ae",
   "metadata": {},
   "source": [
    "**V CHECK THIS ONE AGAIN; DOESNT WORK!**"
   ]
  },
  {
   "cell_type": "code",
   "execution_count": 24,
   "id": "b71ab5b1-07c8-4065-9890-c912f560fff7",
   "metadata": {},
   "outputs": [],
   "source": [
    "client_list = all_data[\"client_id\"].unique()\n",
    "customer_list_test = []\n",
    "customer_list_control = []\n",
    "\n",
    "for client in client_list:\n",
    "    temp_df = all_data[all_data[\"client_id\"]==client]\n",
    "    if \"confirm\" in temp_df[\"process_step\"].values:\n",
    "        if \"Test\" in temp_df[\"Variation\"].values:\n",
    "            customer_list_test.append(client)\n",
    "        else:\n",
    "            customer_list_control.append(client)"
   ]
  },
  {
   "cell_type": "code",
   "execution_count": 25,
   "id": "bbb71ab6-928d-4f6b-ba39-4b392be58064",
   "metadata": {},
   "outputs": [],
   "source": [
    "x = all_data[all_data[\"Variation\"]==\"Test\"][\"date_time\"].mean()\n",
    "mu = all_data[all_data[\"Variation\"]==\"Control\"][\"date_time\"].mean()\n",
    "s = all_data[all_data[\"Variation\"]==\"Test\"][\"date_time\"].std()\n",
    "n = all_data[all_data[\"Variation\"]==\"Test\"][\"date_time\"].count()"
   ]
  },
  {
   "cell_type": "code",
   "execution_count": 26,
   "id": "ff5a7828-b4dc-4642-98eb-785ef3ea44a3",
   "metadata": {},
   "outputs": [
    {
     "name": "stdout",
     "output_type": "stream",
     "text": [
      "-78.97429384805949 0.0\n"
     ]
    }
   ],
   "source": [
    "stats = (x-mu)/(s/np.sqrt(n))\n",
    "p_value = st.t.sf(abs(stats), n-1)*2\n",
    "\n",
    "print(stats, p_value)"
   ]
  },
  {
   "cell_type": "code",
   "execution_count": 27,
   "id": "1d3355a6-eb1e-4412-badd-dbc3c7abc93d",
   "metadata": {},
   "outputs": [],
   "source": [
    "dur_test = [(all_data[all_data[\"client_id\"]==client][\"date_time\"].max() - \n",
    "            all_data[all_data[\"client_id\"]==client][\"date_time\"].min()) for client in customer_list_test]\n",
    "\n",
    "dur_control = [(all_data[all_data[\"client_id\"]==client][\"date_time\"].max() - \n",
    "               all_data[all_data[\"client_id\"]==client][\"date_time\"].min()) for client in customer_list_control]\n"
   ]
  },
  {
   "cell_type": "markdown",
   "id": "2d03aa26-252b-4aa3-9807-724c979d7263",
   "metadata": {},
   "source": [
    "**V CHECK THIS ONE AGAIN; DOESNT WORK!**"
   ]
  },
  {
   "cell_type": "code",
   "execution_count": 28,
   "id": "6c40c942-e3ae-42bd-9d81-a624c54eec2a",
   "metadata": {},
   "outputs": [
    {
     "name": "stdout",
     "output_type": "stream",
     "text": [
      "Testgroup Completion: 69.29323642835953%\n",
      "Controlgroup Completion: 123.71664116947136%\n"
     ]
    }
   ],
   "source": [
    "testtest = ((len(customer_list_test)/all_data[all_data[\"Variation\"]==\"Test\"][\"client_id\"].nunique())*100)\n",
    "control = ((len(customer_list_control)/all_data[all_data[\"Variation\"]==\"Control\"][\"client_id\"].nunique())*100)\n",
    "print(f\"Testgroup Completion: {testtest}%\\nControlgroup Completion: {control}%\")"
   ]
  },
  {
   "cell_type": "code",
   "execution_count": 29,
   "id": "0f4b61e7-f627-434d-a72e-40e762b6ccf0",
   "metadata": {},
   "outputs": [],
   "source": [
    "list_with_steps_test = []\n",
    "list_with_steps_control = []\n",
    "\n",
    "def time_extract(n, llist):\n",
    "    step_data = all_data[all_data[\"client_id\"]==n].sort_values(by=\"date_time\")[[\"process_step\", \"date_time\"]]\n",
    "    for i in range(len(step_data)):\n",
    "        temp_df = step_data.reset_index(drop=True)\n",
    "        current_row = temp_df.iloc[i]\n",
    "        current_step = current_row[0]\n",
    "        current_time = current_row[1]\n",
    "        \n",
    "        if i == 0:\n",
    "            time_spend = current_time\n",
    "        else:\n",
    "            if current_step != last_step:\n",
    "                time_spend = current_row[1]-time_spend\n",
    "                llist.append({last_step:time_spend})\n",
    "                time_spend = current_time\n",
    "            else:\n",
    "                if time_spend:\n",
    "                    pass\n",
    "                else:\n",
    "                    time_spend = current_time\n",
    "        \n",
    "        last_row = current_row\n",
    "        last_step = current_step\n",
    "\n",
    "    # print(f\"Row: {i} - {current_step}, {current_time}, {time_spend}\")\n",
    "\n",
    "for user in all_data[all_data[\"Variation\"]==\"Test\"][\"client_id\"].unique():\n",
    "    time_extract(user, list_with_steps_test)\n",
    "    \n",
    "for user in all_data[all_data[\"Variation\"]==\"Control\"][\"client_id\"].unique():\n",
    "    time_extract(user, list_with_steps_control)"
   ]
  },
  {
   "cell_type": "code",
   "execution_count": 30,
   "id": "a626f331-14f8-492d-a051-eab7d1db6f07",
   "metadata": {},
   "outputs": [
    {
     "data": {
      "text/plain": [
       "<Axes: >"
      ]
     },
     "execution_count": 30,
     "metadata": {},
     "output_type": "execute_result"
    },
    {
     "data": {
      "image/png": "[encoded data removed]",
      "text/plain": [
       "<Figure size 640x480 with 1 Axes>"
      ]
     },
     "metadata": {},
     "output_type": "display_data"
    }
   ],
   "source": [
    "steps_df_test = pd.DataFrame(list_with_steps_test)\n",
    "steps_df_test = steps_df_test.mean().to_frame()\n",
    "steps_df_control = pd.DataFrame(list_with_steps_control)\n",
    "steps_df_control = steps_df_control.mean().to_frame()\n",
    "\n",
    "combined_steps_means = pd.concat([steps_df_control,steps_df_test], axis=1)\n",
    "combined_steps_means.columns = [\"Control\", \"Test\"]\n",
    "combined_steps_means.plot(kind=\"bar\")"
   ]
  },
  {
   "cell_type": "code",
   "execution_count": 31,
   "id": "d7234d6d-c5fa-4c04-b8a8-d8948569899a",
   "metadata": {},
   "outputs": [
    {
     "data": {
      "text/html": [
       "<div>\n",
       "<style scoped>\n",
       "    .dataframe tbody tr th:only-of-type {\n",
       "        vertical-align: middle;\n",
       "    }\n",
       "\n",
       "    .dataframe tbody tr th {\n",
       "        vertical-align: top;\n",
       "    }\n",
       "\n",
       "    .dataframe thead th {\n",
       "        text-align: right;\n",
       "    }\n",
       "</style>\n",
       "<table border=\"1\" class=\"dataframe\">\n",
       "  <thead>\n",
       "    <tr style=\"text-align: right;\">\n",
       "      <th></th>\n",
       "      <th>Control</th>\n",
       "      <th>Test</th>\n",
       "    </tr>\n",
       "  </thead>\n",
       "  <tbody>\n",
       "    <tr>\n",
       "      <th>start</th>\n",
       "      <td>1 days 20:22:22.481501218</td>\n",
       "      <td>1 days 09:28:47.408263692</td>\n",
       "    </tr>\n",
       "    <tr>\n",
       "      <th>step_1</th>\n",
       "      <td>0 days 16:46:48.165671184</td>\n",
       "      <td>0 days 12:29:42.024313791</td>\n",
       "    </tr>\n",
       "    <tr>\n",
       "      <th>step_2</th>\n",
       "      <td>0 days 09:57:46.994791020</td>\n",
       "      <td>0 days 06:01:23.604812151</td>\n",
       "    </tr>\n",
       "    <tr>\n",
       "      <th>step_3</th>\n",
       "      <td>0 days 17:28:24.493149344</td>\n",
       "      <td>0 days 09:31:58.609181921</td>\n",
       "    </tr>\n",
       "    <tr>\n",
       "      <th>confirm</th>\n",
       "      <td>3 days 08:00:12.237323575</td>\n",
       "      <td>4 days 05:46:16.428763440</td>\n",
       "    </tr>\n",
       "  </tbody>\n",
       "</table>\n",
       "</div>"
      ],
      "text/plain": [
       "                          Control                      Test\n",
       "start   1 days 20:22:22.481501218 1 days 09:28:47.408263692\n",
       "step_1  0 days 16:46:48.165671184 0 days 12:29:42.024313791\n",
       "step_2  0 days 09:57:46.994791020 0 days 06:01:23.604812151\n",
       "step_3  0 days 17:28:24.493149344 0 days 09:31:58.609181921\n",
       "confirm 3 days 08:00:12.237323575 4 days 05:46:16.428763440"
      ]
     },
     "execution_count": 31,
     "metadata": {},
     "output_type": "execute_result"
    }
   ],
   "source": [
    "# combined_steps_means.to_excel(\"combined_steps.xlsx\")\n",
    "combined_steps_means"
   ]
  },
  {
   "cell_type": "code",
   "execution_count": 36,
   "id": "6ba2f4f8-0b78-4698-9b0c-f35c08dea724",
   "metadata": {},
   "outputs": [
    {
     "data": {
      "text/html": [
       "<div>\n",
       "<style scoped>\n",
       "    .dataframe tbody tr th:only-of-type {\n",
       "        vertical-align: middle;\n",
       "    }\n",
       "\n",
       "    .dataframe tbody tr th {\n",
       "        vertical-align: top;\n",
       "    }\n",
       "\n",
       "    .dataframe thead th {\n",
       "        text-align: right;\n",
       "    }\n",
       "</style>\n",
       "<table border=\"1\" class=\"dataframe\">\n",
       "  <thead>\n",
       "    <tr style=\"text-align: right;\">\n",
       "      <th></th>\n",
       "      <th>client_id</th>\n",
       "      <th>visitor_id</th>\n",
       "      <th>visit_id</th>\n",
       "      <th>process_step</th>\n",
       "      <th>date_time</th>\n",
       "      <th>client_years</th>\n",
       "      <th>client_month</th>\n",
       "      <th>client_age</th>\n",
       "      <th>gender</th>\n",
       "      <th>num_accounts</th>\n",
       "      <th>balance</th>\n",
       "      <th>calls_6_months</th>\n",
       "      <th>logins_6</th>\n",
       "      <th>Variation</th>\n",
       "    </tr>\n",
       "  </thead>\n",
       "  <tbody>\n",
       "    <tr>\n",
       "      <th>261842</th>\n",
       "      <td>7775828</td>\n",
       "      <td>995150070_44942900577</td>\n",
       "      <td>669119128_68248839401_799567</td>\n",
       "      <td>confirm</td>\n",
       "      <td>2017-03-30 01:31:25</td>\n",
       "      <td>15</td>\n",
       "      <td>191</td>\n",
       "      <td>31</td>\n",
       "      <td>F</td>\n",
       "      <td>2</td>\n",
       "      <td>22226.56</td>\n",
       "      <td>2</td>\n",
       "      <td>2</td>\n",
       "      <td>NaN</td>\n",
       "    </tr>\n",
       "    <tr>\n",
       "      <th>261843</th>\n",
       "      <td>7775828</td>\n",
       "      <td>995150070_44942900577</td>\n",
       "      <td>669119128_68248839401_799567</td>\n",
       "      <td>step_3</td>\n",
       "      <td>2017-03-30 01:30:18</td>\n",
       "      <td>15</td>\n",
       "      <td>191</td>\n",
       "      <td>31</td>\n",
       "      <td>F</td>\n",
       "      <td>2</td>\n",
       "      <td>22226.56</td>\n",
       "      <td>2</td>\n",
       "      <td>2</td>\n",
       "      <td>NaN</td>\n",
       "    </tr>\n",
       "    <tr>\n",
       "      <th>261844</th>\n",
       "      <td>7775828</td>\n",
       "      <td>995150070_44942900577</td>\n",
       "      <td>669119128_68248839401_799567</td>\n",
       "      <td>step_2</td>\n",
       "      <td>2017-03-30 01:29:21</td>\n",
       "      <td>15</td>\n",
       "      <td>191</td>\n",
       "      <td>31</td>\n",
       "      <td>F</td>\n",
       "      <td>2</td>\n",
       "      <td>22226.56</td>\n",
       "      <td>2</td>\n",
       "      <td>2</td>\n",
       "      <td>NaN</td>\n",
       "    </tr>\n",
       "    <tr>\n",
       "      <th>261845</th>\n",
       "      <td>7775828</td>\n",
       "      <td>995150070_44942900577</td>\n",
       "      <td>669119128_68248839401_799567</td>\n",
       "      <td>step_1</td>\n",
       "      <td>2017-03-30 01:28:18</td>\n",
       "      <td>15</td>\n",
       "      <td>191</td>\n",
       "      <td>31</td>\n",
       "      <td>F</td>\n",
       "      <td>2</td>\n",
       "      <td>22226.56</td>\n",
       "      <td>2</td>\n",
       "      <td>2</td>\n",
       "      <td>NaN</td>\n",
       "    </tr>\n",
       "    <tr>\n",
       "      <th>261846</th>\n",
       "      <td>7775828</td>\n",
       "      <td>995150070_44942900577</td>\n",
       "      <td>669119128_68248839401_799567</td>\n",
       "      <td>start</td>\n",
       "      <td>2017-03-30 01:28:10</td>\n",
       "      <td>15</td>\n",
       "      <td>191</td>\n",
       "      <td>31</td>\n",
       "      <td>F</td>\n",
       "      <td>2</td>\n",
       "      <td>22226.56</td>\n",
       "      <td>2</td>\n",
       "      <td>2</td>\n",
       "      <td>NaN</td>\n",
       "    </tr>\n",
       "    <tr>\n",
       "      <th>...</th>\n",
       "      <td>...</td>\n",
       "      <td>...</td>\n",
       "      <td>...</td>\n",
       "      <td>...</td>\n",
       "      <td>...</td>\n",
       "      <td>...</td>\n",
       "      <td>...</td>\n",
       "      <td>...</td>\n",
       "      <td>...</td>\n",
       "      <td>...</td>\n",
       "      <td>...</td>\n",
       "      <td>...</td>\n",
       "      <td>...</td>\n",
       "      <td>...</td>\n",
       "    </tr>\n",
       "    <tr>\n",
       "      <th>449826</th>\n",
       "      <td>9895983</td>\n",
       "      <td>473024645_56027518531</td>\n",
       "      <td>498981662_93503779869_272484</td>\n",
       "      <td>step_3</td>\n",
       "      <td>2017-06-15 19:52:09</td>\n",
       "      <td>10</td>\n",
       "      <td>121</td>\n",
       "      <td>49</td>\n",
       "      <td>M</td>\n",
       "      <td>2</td>\n",
       "      <td>97748.22</td>\n",
       "      <td>2</td>\n",
       "      <td>2</td>\n",
       "      <td>NaN</td>\n",
       "    </tr>\n",
       "    <tr>\n",
       "      <th>449827</th>\n",
       "      <td>9895983</td>\n",
       "      <td>473024645_56027518531</td>\n",
       "      <td>498981662_93503779869_272484</td>\n",
       "      <td>step_2</td>\n",
       "      <td>2017-06-15 19:50:37</td>\n",
       "      <td>10</td>\n",
       "      <td>121</td>\n",
       "      <td>49</td>\n",
       "      <td>M</td>\n",
       "      <td>2</td>\n",
       "      <td>97748.22</td>\n",
       "      <td>2</td>\n",
       "      <td>2</td>\n",
       "      <td>NaN</td>\n",
       "    </tr>\n",
       "    <tr>\n",
       "      <th>449828</th>\n",
       "      <td>9895983</td>\n",
       "      <td>473024645_56027518531</td>\n",
       "      <td>498981662_93503779869_272484</td>\n",
       "      <td>step_1</td>\n",
       "      <td>2017-06-15 19:50:05</td>\n",
       "      <td>10</td>\n",
       "      <td>121</td>\n",
       "      <td>49</td>\n",
       "      <td>M</td>\n",
       "      <td>2</td>\n",
       "      <td>97748.22</td>\n",
       "      <td>2</td>\n",
       "      <td>2</td>\n",
       "      <td>NaN</td>\n",
       "    </tr>\n",
       "    <tr>\n",
       "      <th>449829</th>\n",
       "      <td>9895983</td>\n",
       "      <td>473024645_56027518531</td>\n",
       "      <td>498981662_93503779869_272484</td>\n",
       "      <td>start</td>\n",
       "      <td>2017-06-15 19:50:00</td>\n",
       "      <td>10</td>\n",
       "      <td>121</td>\n",
       "      <td>49</td>\n",
       "      <td>M</td>\n",
       "      <td>2</td>\n",
       "      <td>97748.22</td>\n",
       "      <td>2</td>\n",
       "      <td>2</td>\n",
       "      <td>NaN</td>\n",
       "    </tr>\n",
       "    <tr>\n",
       "      <th>449830</th>\n",
       "      <td>9895983</td>\n",
       "      <td>473024645_56027518531</td>\n",
       "      <td>498981662_93503779869_272484</td>\n",
       "      <td>start</td>\n",
       "      <td>2017-06-15 19:44:05</td>\n",
       "      <td>10</td>\n",
       "      <td>121</td>\n",
       "      <td>49</td>\n",
       "      <td>M</td>\n",
       "      <td>2</td>\n",
       "      <td>97748.22</td>\n",
       "      <td>2</td>\n",
       "      <td>2</td>\n",
       "      <td>NaN</td>\n",
       "    </tr>\n",
       "  </tbody>\n",
       "</table>\n",
       "<p>128522 rows × 14 columns</p>\n",
       "</div>"
      ],
      "text/plain": [
       "        client_id             visitor_id                      visit_id  \\\n",
       "261842    7775828  995150070_44942900577  669119128_68248839401_799567   \n",
       "261843    7775828  995150070_44942900577  669119128_68248839401_799567   \n",
       "261844    7775828  995150070_44942900577  669119128_68248839401_799567   \n",
       "261845    7775828  995150070_44942900577  669119128_68248839401_799567   \n",
       "261846    7775828  995150070_44942900577  669119128_68248839401_799567   \n",
       "...           ...                    ...                           ...   \n",
       "449826    9895983  473024645_56027518531  498981662_93503779869_272484   \n",
       "449827    9895983  473024645_56027518531  498981662_93503779869_272484   \n",
       "449828    9895983  473024645_56027518531  498981662_93503779869_272484   \n",
       "449829    9895983  473024645_56027518531  498981662_93503779869_272484   \n",
       "449830    9895983  473024645_56027518531  498981662_93503779869_272484   \n",
       "\n",
       "       process_step           date_time  client_years  client_month  \\\n",
       "261842      confirm 2017-03-30 01:31:25            15           191   \n",
       "261843       step_3 2017-03-30 01:30:18            15           191   \n",
       "261844       step_2 2017-03-30 01:29:21            15           191   \n",
       "261845       step_1 2017-03-30 01:28:18            15           191   \n",
       "261846        start 2017-03-30 01:28:10            15           191   \n",
       "...             ...                 ...           ...           ...   \n",
       "449826       step_3 2017-06-15 19:52:09            10           121   \n",
       "449827       step_2 2017-06-15 19:50:37            10           121   \n",
       "449828       step_1 2017-06-15 19:50:05            10           121   \n",
       "449829        start 2017-06-15 19:50:00            10           121   \n",
       "449830        start 2017-06-15 19:44:05            10           121   \n",
       "\n",
       "        client_age gender  num_accounts   balance  calls_6_months  logins_6  \\\n",
       "261842          31      F             2  22226.56               2         2   \n",
       "261843          31      F             2  22226.56               2         2   \n",
       "261844          31      F             2  22226.56               2         2   \n",
       "261845          31      F             2  22226.56               2         2   \n",
       "261846          31      F             2  22226.56               2         2   \n",
       "...            ...    ...           ...       ...             ...       ...   \n",
       "449826          49      M             2  97748.22               2         2   \n",
       "449827          49      M             2  97748.22               2         2   \n",
       "449828          49      M             2  97748.22               2         2   \n",
       "449829          49      M             2  97748.22               2         2   \n",
       "449830          49      M             2  97748.22               2         2   \n",
       "\n",
       "       Variation  \n",
       "261842       NaN  \n",
       "261843       NaN  \n",
       "261844       NaN  \n",
       "261845       NaN  \n",
       "261846       NaN  \n",
       "...          ...  \n",
       "449826       NaN  \n",
       "449827       NaN  \n",
       "449828       NaN  \n",
       "449829       NaN  \n",
       "449830       NaN  \n",
       "\n",
       "[128522 rows x 14 columns]"
      ]
     },
     "execution_count": 36,
     "metadata": {},
     "output_type": "execute_result"
    }
   ],
   "source": [
    "# all_data.to_excel(\"all_data.xlsx\")\n",
    "all_data[all_data[\"Variation\"].isna()]"
   ]
  }
 ],
 "metadata": {
  "kernelspec": {
   "display_name": "Python 3 (ipykernel)",
   "language": "python",
   "name": "python3"
  },
  "language_info": {
   "codemirror_mode": {
    "name": "ipython",
    "version": 3
   },
   "file_extension": ".py",
   "mimetype": "text/x-python",
   "name": "python",
   "nbconvert_exporter": "python",
   "pygments_lexer": "ipython3",
   "version": "3.11.7"
  }
 },
 "nbformat": 4,
 "nbformat_minor": 5
}
