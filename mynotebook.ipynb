{
 "cells": [
  {
   "cell_type": "code",
   "execution_count": null,
   "id": "ead2a48e-0a53-4d18-ac2a-c339fa36c0b0",
   "metadata": {},
   "outputs": [],
   "source": [
    "import pandas as pd\n",
    "import import_ipynb\n",
    "import matplotlib.pyplot as plt\n",
    "import seaborn as sns\n",
    "import numpy as np\n",
    "import scipy.stats as st\n",
    "\n",
    "%matplotlib inline\n",
    "df = pd.read_csv(r\"C:\\Users\\zaiid\\OneDrive\\Documents\\vanguard-ab-test\\all_data.csv\")"
   ]
  },
  {
   "cell_type": "code",
   "execution_count": null,
   "id": "6ad22b89-060b-4137-ba22-d6c517784807",
   "metadata": {},
   "outputs": [],
   "source": [
    "df.isnull().sum()"
   ]
  },
  {
   "cell_type": "code",
   "execution_count": null,
   "id": "ac59ddaf-2bd6-418a-a778-052d1e53b8a5",
   "metadata": {},
   "outputs": [],
   "source": [
    "from functions import *"
   ]
  },
  {
   "cell_type": "code",
   "execution_count": null,
   "id": "4483a356-aff0-4b05-b89b-f1cec1099739",
   "metadata": {},
   "outputs": [],
   "source": [
    "clean_dtypes"
   ]
  },
  {
   "cell_type": "code",
   "execution_count": null,
   "id": "286e7bcb-d33f-4bd8-b116-c8bf76a3754c",
   "metadata": {},
   "outputs": [],
   "source": [
    "df.dtypes"
   ]
  },
  {
   "cell_type": "code",
   "execution_count": null,
   "id": "7c3cfafd-9e7a-4731-9495-b3ce8cd239d0",
   "metadata": {},
   "outputs": [],
   "source": [
    "from functions import *\n"
   ]
  },
  {
   "cell_type": "code",
   "execution_count": null,
   "id": "a213f0f0-2e30-46a4-9c04-b025d0a73445",
   "metadata": {},
   "outputs": [],
   "source": [
    "rename_columns(df)"
   ]
  },
  {
   "cell_type": "code",
   "execution_count": null,
   "id": "d6373e7d-5e4d-472f-a113-047dd42945f3",
   "metadata": {},
   "outputs": [],
   "source": [
    "clean_dtypes"
   ]
  },
  {
   "cell_type": "code",
   "execution_count": null,
   "id": "beba10ea-3326-4b79-b92e-dbad623b346d",
   "metadata": {},
   "outputs": [],
   "source": [
    "df.dtypes"
   ]
  },
  {
   "cell_type": "code",
   "execution_count": null,
   "id": "b7a90223-bea8-4592-a93d-3cfb1b8bb8fc",
   "metadata": {},
   "outputs": [],
   "source": [
    "df.num_accounts.array\n"
   ]
  },
  {
   "cell_type": "code",
   "execution_count": null,
   "id": "17a2df45-5fd1-403e-9d34-6171953a1996",
   "metadata": {},
   "outputs": [],
   "source": [
    "df.groupby([\"gender\", \"process_step\"]).size()\n"
   ]
  },
  {
   "cell_type": "code",
   "execution_count": null,
   "id": "e438181b-f97e-458d-b4d3-4edc11440e70",
   "metadata": {},
   "outputs": [],
   "source": [
    "result = df.groupby('num_accounts')['client_id'].nunique().reset_index()\n",
    "#result.columns = ['num_accounts', 'num_clients']\n",
    "\n",
    "print(result)"
   ]
  },
  {
   "cell_type": "code",
   "execution_count": null,
   "id": "f83963e1-de51-4d02-aa34-333038cb64dc",
   "metadata": {},
   "outputs": [],
   "source": [
    "df"
   ]
  },
  {
   "cell_type": "code",
   "execution_count": null,
   "id": "701a6aa4-38eb-4805-b816-08be751dfb77",
   "metadata": {},
   "outputs": [],
   "source": [
    "plt.figure(figsize=(8, 6))\n",
    "plt.bar(result['num_accounts'], result['client_id'], color='skyblue')\n",
    "plt.xlabel('Number of Accounts')\n",
    "plt.ylabel('Number of Clients')\n",
    "plt.title('Number of Clients per Number of Accounts')\n",
    "plt.xticks(result['num_accounts'], rotation=90)\n",
    "plt.grid(axis='y', linestyle='--', alpha=0.7)\n",
    "plt.show()"
   ]
  },
  {
   "cell_type": "code",
   "execution_count": null,
   "id": "b0b83297-fd06-42d7-aecf-e7e2537d20e5",
   "metadata": {},
   "outputs": [],
   "source": [
    "\n",
    "\n",
    "\n"
   ]
  },
  {
   "cell_type": "code",
   "execution_count": null,
   "id": "bfc6f444-7981-4713-8612-aed53c2750fa",
   "metadata": {},
   "outputs": [],
   "source": [
    "#h0 female_years = male_years\n",
    "#h1 female_years != male_years\n",
    "\n",
    "\n",
    "female_years = df[df[\"gender\"]==\"F\"][\"client_years\"]\n",
    "male_years = df[df[\"gender\"]==\"M\"][\"client_years\"]\n",
    "female_years, male_years\n",
    "st.ttest_ind(female_years,male_years, equal_var=False)\n"
   ]
  },
  {
   "cell_type": "code",
   "execution_count": null,
   "id": "67d96cfe-6332-4356-9db8-7be99ec57504",
   "metadata": {},
   "outputs": [],
   "source": [
    "average_balance_by_gender_process = df.groupby(\"process_step\")[\"gender\"].value_counts()\n",
    "average_balance_by_gender_process"
   ]
  },
  {
   "cell_type": "code",
   "execution_count": null,
   "id": "d1a88112-b1a0-4c61-bded-a6496736fe79",
   "metadata": {},
   "outputs": [],
   "source": [
    "clean_dtypes"
   ]
  },
  {
   "cell_type": "code",
   "execution_count": null,
   "id": "2331611f-d7d6-4aa7-b75f-5dd656d6b768",
   "metadata": {},
   "outputs": [],
   "source": [
    "df.Variation.value_counts()"
   ]
  },
  {
   "cell_type": "code",
   "execution_count": null,
   "id": "9fabac75-da11-425a-be28-faba371af51d",
   "metadata": {},
   "outputs": [],
   "source": [
    "df"
   ]
  },
  {
   "cell_type": "code",
   "execution_count": null,
   "id": "0806eee7-b15d-47a1-bd42-b3fff3da9639",
   "metadata": {},
   "outputs": [],
   "source": [
    "selected_data = df.loc[(df['process_step'] == 'start') & df['Variation'].isna(), ['client_id', 'date_time', \"process_step\", \"Variation\"]]\n",
    "selected_data"
   ]
  },
  {
   "cell_type": "code",
   "execution_count": null,
   "id": "8b2bded5-3782-4fbd-a4af-9eb33dbafb2e",
   "metadata": {},
   "outputs": [],
   "source": [
    "steps_df = pd.DataFrame()\n",
    "\n",
    "steps = [\"start\", \"step_1\", \"step_2\", \"step_3\", \"confirm\"]\n",
    "steps_2 = []\n",
    "\n",
    "for s in steps:\n",
    "    for i in range(2):\n",
    "        steps_2.append(s)\n",
    "    step_count = df[df[\"process_step\"]==s].groupby([\"Variation\", \"client_id\"])[\"process_step\"].count().to_frame()\n",
    "    step_count = step_count.reset_index().groupby([\"Variation\"])[\"process_step\"].mean()\n",
    "    print(f\"Step: {s}:{step_count}\")\n",
    "    print(f\"Difference: {abs(step_count[0]-step_count[1]).round(3)}\\n\")\n",
    "    steps_df = pd.concat([steps_df,step_count.to_frame()])"
   ]
  },
  {
   "cell_type": "code",
   "execution_count": null,
   "id": "b0063587-094b-4ef1-9dd0-807975d35d77",
   "metadata": {},
   "outputs": [],
   "source": [
    "import pandas as pd\n",
    "\n",
    "df['time'] = pd.to_datetime(df['date_time'])\n",
    "\n",
    "filtered_data = df[df['Variation'].isna()]\n",
    "\n",
    "\n",
    "mean_times = filtered_data.groupby(['client_id', 'process_step'])['time'].mean()\n",
    "mean_times\n",
    "\n",
    "\n"
   ]
  },
  {
   "cell_type": "code",
   "execution_count": null,
   "id": "109dfafd-d93e-4296-b35f-cc50e9ca98b8",
   "metadata": {},
   "outputs": [],
   "source": [
    "value_counts_test = df['Variation'].value_counts()['Test']\n",
    "value_counts_control = df['Variation'].value_counts()['Control']\n",
    "#percentages = value_counts / len(df) * 100\n",
    "\n",
    "value_counts_test, value_counts_control"
   ]
  },
  {
   "cell_type": "code",
   "execution_count": null,
   "id": "e267831e-8660-4964-bc4b-2115d17ffb26",
   "metadata": {},
   "outputs": [],
   "source": [
    "#result = df.groupby('Variation')['process_step'].value_counts()\n",
    "#apply(lambda x: (x == 'confirm').mean() * 100)\n",
    "# Display the result\n",
    "test_confirmed = df[(df['Variation'] == 'Test') & (df['process_step'] == 'confirm')]['Variation'].value_counts()\n",
    "control_confirmed = df[(df['Variation'] == 'Control') & (df['process_step'] == 'confirm')]['Variation'].value_counts()\n",
    "\n",
    "test_confirmed, control_confirmed"
   ]
  },
  {
   "cell_type": "code",
   "execution_count": null,
   "id": "0964311f-b128-4c7a-b5d3-da0a638fc2b3",
   "metadata": {},
   "outputs": [],
   "source": [
    "value_counts_test = df['Variation'].value_counts()['Test']\n",
    "value_counts_control = df['Variation'].value_counts()['Control']\n",
    "test_confirmed = df[(df['Variation'] == 'Test') & (df['process_step'] == 'confirm')]['Variation'].value_counts()\n",
    "control_confirmed = df[(df['Variation'] == 'Control') & (df['process_step'] == 'confirm')]['Variation'].value_counts()\n",
    "test_confirmed_prc = test_confirmed / value_counts_test * 100\n",
    "control_confirmed_prc = control_confirmed / value_counts_control * 100\n",
    "test_confirmed_prc , control_confirmed_prc"
   ]
  },
  {
   "cell_type": "code",
   "execution_count": null,
   "id": "2d8c8f5d-2db3-4e34-9546-a0b491e2f0a7",
   "metadata": {},
   "outputs": [],
   "source": [
    "test_clients = df[df['Variation'] == 'Test']['client_id'].nunique()\n",
    "control_clients = df[df['Variation'] == 'Control']['client_id'].nunique()\n",
    "\n",
    "test_confirmed_clients = df[(df['Variation'] == 'Test') & (df['process_step'] == 'confirm')]['client_id'].nunique()\n",
    "control_confirmed_clients = df[(df['Variation'] == 'Control') & (df['process_step'] == 'confirm')]['client_id'].nunique()\n",
    "\n",
    "test_confirmed_prc = (test_confirmed_clients / test_clients * 100)\n",
    "control_confirmed_prc = (control_confirmed_clients / control_clients * 100)\n",
    "\n",
    "test_confirmed_prc, control_confirmed_prc\n",
    "\n"
   ]
  },
  {
   "cell_type": "code",
   "execution_count": null,
   "id": "e39097be-bcad-4360-858e-269bed21ed5e",
   "metadata": {},
   "outputs": [],
   "source": [
    "test_confirmed_clients"
   ]
  },
  {
   "cell_type": "code",
   "execution_count": null,
   "id": "033e00bd-666e-42ed-bcda-b26b389d1d94",
   "metadata": {},
   "outputs": [],
   "source": [
    "df.isnull().sum()"
   ]
  },
  {
   "cell_type": "code",
   "execution_count": null,
   "id": "556ae1e9-7d0c-4b0b-b992-b58b4f1dedb8",
   "metadata": {},
   "outputs": [],
   "source": [
    "female_years = df[df[\"gender\"]==\"F\"][\"client_years\"].mean()\n",
    "male_years = df[df[\"gender\"]==\"M\"][\"client_years\"].mean()\n",
    "female_years , male_years"
   ]
  },
  {
   "cell_type": "code",
   "execution_count": null,
   "id": "9221bc95-5f50-4672-8c61-fd8caa032b35",
   "metadata": {},
   "outputs": [],
   "source": [
    "female_years = df[df[\"gender\"]==\"F\"][\"client_years\"]\n",
    "male_years = df[df[\"gender\"]==\"M\"][\"client_years\"]\n",
    "female_years, male_years"
   ]
  },
  {
   "cell_type": "code",
   "execution_count": null,
   "id": "85436fca-3228-41d5-b734-ff6df6f14c14",
   "metadata": {},
   "outputs": [],
   "source": [
    "st.ttest_ind(male_years,female_years, equal_var=False)"
   ]
  },
  {
   "cell_type": "code",
   "execution_count": null,
   "id": "493c4ecc-9ee6-4997-804b-9c8515a7a0e5",
   "metadata": {},
   "outputs": [],
   "source": [
    "crosstab_result = pd.crosstab(df['client_years'], df['gender'])\n",
    "\n",
    "crosstab_result"
   ]
  },
  {
   "cell_type": "code",
   "execution_count": null,
   "id": "6a39057c-7a92-495e-9de8-7ba176524787",
   "metadata": {},
   "outputs": [],
   "source": [
    "import seaborn as sns\n",
    "import matplotlib.pyplot as plt\n",
    "\n",
    "# Set the figure size before creating the plot\n",
    "plt.figure(figsize=(20, 10))\n",
    "\n",
    "# Your code to create the countplot\n",
    "sns.countplot(data=df, x='client_years', hue='gender')\n",
    "\n",
    "# Rotating the x-axis labels\n",
    "plt.xticks(rotation=90)\n",
    "\n",
    "# Display the plot\n",
    "plt.show()\n"
   ]
  },
  {
   "cell_type": "code",
   "execution_count": null,
   "id": "7dfa6f55-9866-4525-9489-3e290ca235c3",
   "metadata": {},
   "outputs": [],
   "source": [
    "clients_years_table = pd.crosstab(index = df[\"client_years\"],  \n",
    "                              columns=\"count\")      \n",
    "clients_years_table"
   ]
  },
  {
   "cell_type": "code",
   "execution_count": null,
   "id": "6e6fc080-c297-4c87-9092-f2ee8ae794e8",
   "metadata": {},
   "outputs": [],
   "source": [
    "sns.scatterplot(data=df, x='client_years', y='balance')"
   ]
  },
  {
   "cell_type": "code",
   "execution_count": null,
   "id": "38b6f8a7-9be1-4f99-9f9f-aede20459714",
   "metadata": {},
   "outputs": [],
   "source": [
    "age_bins = [0,5,10,15,20,25,30, 35,40,45,50,55,62]\n",
    "age_labels = ['0-5','5-10','10-15', '15-20', '20-25', '25-30', '30-35', '35-40', '40-45', '45-50', '50-55','55-62' ]\n",
    "\n",
    "\n",
    "years_group_counts= pd.cut(df[\"client_years\"], bins=age_bins, labels=age_labels, right=False).value_counts().sort_index()\n",
    "\n",
    "\n",
    "years_group_counts"
   ]
  },
  {
   "cell_type": "code",
   "execution_count": null,
   "id": "5dd0d474-1a1f-4f78-a76e-75bf7fa85515",
   "metadata": {},
   "outputs": [],
   "source": [
    "df['client_years'] = pd.cut(df['client_years'], bins=age_bins, labels=age_labels, right=False)\n",
    "\n",
    "# Count occurrences in each age group\n",
    "years_group_counts = df['client_years'].value_counts().sort_index()\n",
    "\n",
    "# Group by age group and gender, and count occurrences\n",
    "gender_counts = df.groupby(['client_years', 'gender']).size().unstack(fill_value=0)\n",
    "\n",
    "print(\"Counts per age group:\")\n",
    "print(years_group_counts)\n",
    "print(\"\\nGender counts per age group:\")\n",
    "print(gender_counts)"
   ]
  },
  {
   "cell_type": "code",
   "execution_count": null,
   "id": "7b8021ce-f908-4d38-8185-53d0db49bea6",
   "metadata": {},
   "outputs": [],
   "source": [
    "gender_table = pd.crosstab(index = df[\"gender\"],  \n",
    "                              columns=\"count\")      \n",
    "gender_table"
   ]
  },
  {
   "cell_type": "code",
   "execution_count": null,
   "id": "1823144e-0d72-437f-b553-6884e83d821f",
   "metadata": {},
   "outputs": [],
   "source": [
    "gender_table.plot(kind='bar', stacked=False)\n",
    "plt.title('Gender Distribution per Age Group')\n",
    "plt.xlabel('client_years')\n",
    "plt.ylabel('Count')\n",
    "plt.xticks(rotation=45)\n",
    "plt.legend(title='Gender')\n",
    "plt.show()"
   ]
  },
  {
   "cell_type": "code",
   "execution_count": null,
   "id": "1a551d02-ce55-4cef-bcc4-574a8fd27b23",
   "metadata": {},
   "outputs": [],
   "source": [
    "crosstab_result = pd.crosstab(df['gender'], df['client_years'])\n",
    "\n",
    "crosstab_result"
   ]
  },
  {
   "cell_type": "code",
   "execution_count": null,
   "id": "5e24ed3d-273d-4cbf-9da7-d98bef5ad60f",
   "metadata": {},
   "outputs": [],
   "source": [
    "sns.heatmap(crosstab_result, cmap=\"YlGnBu\", fmt=\"d\")"
   ]
  },
  {
   "cell_type": "code",
   "execution_count": null,
   "id": "b2f92b44-81b4-4c82-80ed-42c8de95bbaf",
   "metadata": {},
   "outputs": [],
   "source": [
    "from scipy.stats import chi2_contingency\n",
    "\n",
    "chi2_statistic, chi2_p_value, _, _ = chi2_contingency(crosstab_result)\n",
    "\n",
    "chi2_statistic, chi2_p_value"
   ]
  },
  {
   "cell_type": "code",
   "execution_count": null,
   "id": "504f893e-b724-47c7-bceb-9dcf8dabb725",
   "metadata": {},
   "outputs": [],
   "source": [
    "from scipy.stats.contingency import association\n",
    "\n",
    "association(crosstab_result, method=\"cramer\")"
   ]
  },
  {
   "cell_type": "code",
   "execution_count": null,
   "id": "37ab0d56-ff60-43ec-a5b5-25897277c59b",
   "metadata": {},
   "outputs": [],
   "source": [
    "gender_counts.plot(kind='bar', stacked=False)\n",
    "plt.title('Gender Distribution per Age Group')\n",
    "plt.xlabel('client_years')\n",
    "plt.ylabel('Count')\n",
    "plt.xticks(rotation=45)\n",
    "plt.legend(title='Gender')\n",
    "plt.show()"
   ]
  },
  {
   "cell_type": "code",
   "execution_count": null,
   "id": "f6d1835b-8c1a-4a88-9020-688d141ed351",
   "metadata": {},
   "outputs": [],
   "source": [
    "client_age_table = pd.crosstab(index = df[\"client_age\"],  \n",
    "                              columns=\"count\",)      \n",
    "client_age_table"
   ]
  },
  {
   "cell_type": "code",
   "execution_count": null,
   "id": "a9c20c9b-a23d-41b8-8fc2-4afaec9bece7",
   "metadata": {},
   "outputs": [],
   "source": [
    "client_age_table/client_age_table.sum()"
   ]
  },
  {
   "cell_type": "code",
   "execution_count": null,
   "id": "5a3a5f16-dc86-47f1-9792-16e27b553441",
   "metadata": {},
   "outputs": [],
   "source": [
    "client_month_table = pd.crosstab(index = df[\"client_month\"],  \n",
    "                              columns=\"count\",)      \n",
    "client_month_table"
   ]
  },
  {
   "cell_type": "code",
   "execution_count": null,
   "id": "11af79ab-f338-4254-a069-d654ed40a03a",
   "metadata": {},
   "outputs": [],
   "source": [
    "\n",
    "age_bins = [0, 10, 20, 30, 40, 50, 60, 70, 80, 90, 100]\n",
    "age_labels = ['0-10', '10-20', '20-30', '30-40', '40-50', '50-60', '60-70', '70-80', '80-90', '90-100']\n",
    "\n",
    "\n",
    "age_group_counts= pd.cut(df[\"client_age\"], bins=age_bins, labels=age_labels, right=False).value_counts().sort_index()\n",
    "\n",
    "\n",
    "age_group_counts\n"
   ]
  },
  {
   "cell_type": "code",
   "execution_count": null,
   "id": "b9cb4e3d-64c0-487d-963e-f273964e2610",
   "metadata": {},
   "outputs": [],
   "source": [
    "total_entries = df.shape[0]\n",
    "age_group_percentages = (age_group_counts / total_entries) * 100\n",
    "\n",
    "age_group_percentages.round(2)"
   ]
  },
  {
   "cell_type": "code",
   "execution_count": null,
   "id": "ccf7a988-1ff5-46ff-83c5-6687dd9d654e",
   "metadata": {},
   "outputs": [],
   "source": [
    "sns.barplot(x=age_group_percentages.round(2).index, y=age_group_percentages.round(2), palette=\"Set3\");"
   ]
  },
  {
   "cell_type": "code",
   "execution_count": null,
   "id": "3dd57c4c-7a37-4bd2-9a86-f08707b8e909",
   "metadata": {},
   "outputs": [],
   "source": [
    "df.client_age.describe()"
   ]
  },
  {
   "cell_type": "code",
   "execution_count": null,
   "id": "5e4705dd-7844-4dfb-aee6-4380540429c0",
   "metadata": {},
   "outputs": [],
   "source": [
    "#h0 males_balance = women_balance \n",
    "#h1 males_balance != women_balance"
   ]
  },
  {
   "cell_type": "code",
   "execution_count": null,
   "id": "afc98314-7ad1-4884-a9b9-ca8f897f4991",
   "metadata": {},
   "outputs": [],
   "source": [
    "female_balance = df[df[\"gender\"]==\"F\"][\"balance\"]\n",
    "male_balance = df[df[\"gender\"]==\"M\"][\"balance\"]\n",
    "female_balance, male_balance"
   ]
  },
  {
   "cell_type": "code",
   "execution_count": null,
   "id": "b65ea002-48db-4c9e-b642-7dd725d92441",
   "metadata": {},
   "outputs": [],
   "source": [
    "import numpy as np\n",
    "import matplotlib.pyplot as plt\n",
    "import scipy.stats as st\n",
    "st.ttest_ind(male_balance,female_balance, equal_var=False)"
   ]
  },
  {
   "cell_type": "code",
   "execution_count": null,
   "id": "548d1f86-5f20-46d9-9307-bc1aa11423e2",
   "metadata": {},
   "outputs": [],
   "source": [
    "female_years = df[df[\"gender\"]==\"F\"][\"client_years\"].count\n",
    "male_years = df[df[\"gender\"]==\"M\"][\"client_years\"].count\n",
    "female_years, male_years"
   ]
  },
  {
   "cell_type": "code",
   "execution_count": null,
   "id": "ac4216b7-0a2e-43cf-9e94-16534314f0cc",
   "metadata": {},
   "outputs": [],
   "source": [
    "import pandas as pd\n",
    "test_counts = df[df['Variation'] == 'Test']['client_years'].value_counts()\n",
    "control_counts = df[df['Variation'] == 'Control']['client_years'].value_counts()\n",
    "\n",
    "counts_df = pd.DataFrame({'test_counts': test_counts, 'control_counts': control_counts}).fillna(0)\n",
    "\n",
    "abs_diff_counts = abs(counts_df['test_counts'] - counts_df['control_counts'])\n",
    "\n",
    "total_control_counts = counts_df['control_counts'].sum()\n",
    "percentage_variation = (abs_diff_counts.sum() / total_control_counts) * 100\n",
    "percentage_variation\n"
   ]
  },
  {
   "cell_type": "code",
   "execution_count": null,
   "id": "6f51efd9-264f-4b3f-86a6-0bd490b6e591",
   "metadata": {},
   "outputs": [],
   "source": [
    "\n",
    "df = df.dropna(subset=['Variation'])\n",
    "age_counts = df.groupby('Variation')['client_age'].value_counts()\n",
    "\n",
    "\n",
    "age_percentages = age_counts.groupby(level=0).apply(lambda x: 100 * x / float(x.sum()))\n",
    "\n",
    "print(age_percentages)\n"
   ]
  },
  {
   "cell_type": "code",
   "execution_count": null,
   "id": "584d8c73-c926-4ab8-adfe-4df06de15426",
   "metadata": {},
   "outputs": [],
   "source": [
    "  df['gender'] = df['gender'].replace(\"X\", \"U\")"
   ]
  },
  {
   "cell_type": "code",
   "execution_count": null,
   "id": "f3c9049a-bd9f-4887-b8b9-bd2ffc7561c4",
   "metadata": {},
   "outputs": [],
   "source": [
    "# Group by gender and variation, then count occurrences\n",
    "gender_variation_counts = df.groupby(['gender', 'Variation']).size()\n",
    "\n",
    "print(gender_variation_counts)\n"
   ]
  },
  {
   "cell_type": "code",
   "execution_count": null,
   "id": "20123524-e9e6-4454-8171-e2729581b7b0",
   "metadata": {},
   "outputs": [],
   "source": [
    "\n",
    "gender_variation_counts_df = gender_variation_counts.unstack()\n",
    "\n",
    "print(gender_variation_counts_df)\n"
   ]
  },
  {
   "cell_type": "code",
   "execution_count": null,
   "id": "d170f7d6-3e1f-4e4a-990a-d0db4a839de0",
   "metadata": {},
   "outputs": [],
   "source": [
    "\n",
    "gender_counts = df['gender'].value_counts()\n",
    "gender_variation_counts = df.groupby(['gender', 'Variation']).size()\n",
    "\n",
    "gender_variation_percentages = (gender_variation_counts / gender_counts) * 100\n",
    "print(gender_variation_percentages)\n"
   ]
  },
  {
   "cell_type": "code",
   "execution_count": null,
   "id": "6d8b5119-34df-434d-9348-a5b17681b0b2",
   "metadata": {},
   "outputs": [],
   "source": [
    "# Unstack the multi-index series to make a DataFrame\n",
    "gender_variation_percentages_df = gender_variation_percentages.unstack()\n",
    "\n",
    "# Print the DataFrame\n",
    "print(gender_variation_percentages_df)\n",
    "\n",
    "gender_variation_percentages_df.plot(kind='bar',  color=['red', 'black'])\n",
    "\n",
    "plt.xlabel('Gender')\n",
    "plt.ylabel('Percentage')\n",
    "plt.title('Percentage of Variation by Gender')\n",
    "\n",
    "plt.show()\n"
   ]
  },
  {
   "cell_type": "code",
   "execution_count": null,
   "id": "970493b7-91b9-4d06-aeda-1aeeb8dfed0a",
   "metadata": {},
   "outputs": [],
   "source": [
    "import matplotlib.pyplot as plt\n",
    "\n",
    "def count_step_back(group):\n",
    "    prev_step = None\n",
    "    step_back_counts = []\n",
    "    for step in group['process_step']:\n",
    "        if prev_step and prev_step > step:\n",
    "            step_back_counts.append(1)\n",
    "        else:\n",
    "            step_back_counts.append(0)\n",
    "        prev_step = step\n",
    "    return sum(step_back_counts)\n",
    "\n",
    "step_back_data = df.groupby('Variation').apply(count_step_back)\n",
    "\n",
    "step_back_data.plot(kind='bar', color=['red', 'black'])\n",
    "\n",
    "plt.xlabel('Variation')\n",
    "plt.ylabel('Number of Step Back')\n",
    "plt.title('Number of Step Back by Variation')\n",
    "plt.xticks(rotation=0)  # Rotate x-axis labels if needed\n",
    "\n",
    "plt.show()\n"
   ]
  },
  {
   "cell_type": "code",
   "execution_count": null,
   "id": "d78f3e91-c658-4a49-b10a-94396c6b9de2",
   "metadata": {},
   "outputs": [],
   "source": [
    "df"
   ]
  },
  {
   "cell_type": "code",
   "execution_count": null,
   "id": "daa155d6-56a3-4d48-996f-6f6ad5667ee6",
   "metadata": {},
   "outputs": [],
   "source": [
    "df"
   ]
  },
  {
   "cell_type": "code",
   "execution_count": null,
   "id": "181a8f44-b006-4c30-8634-f73a2b066c0b",
   "metadata": {},
   "outputs": [],
   "source": []
  }
 ],
 "metadata": {
  "kernelspec": {
   "display_name": "Python 3 (ipykernel)",
   "language": "python",
   "name": "python3"
  },
  "language_info": {
   "codemirror_mode": {
    "name": "ipython",
    "version": 3
   },
   "file_extension": ".py",
   "mimetype": "text/x-python",
   "name": "python",
   "nbconvert_exporter": "python",
   "pygments_lexer": "ipython3",
   "version": "3.11.7"
  }
 },
 "nbformat": 4,
 "nbformat_minor": 5
}
